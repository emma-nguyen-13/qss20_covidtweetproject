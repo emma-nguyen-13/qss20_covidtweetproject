{
 "cells": [
  {
   "cell_type": "markdown",
   "id": "6bf91359a82611f3",
   "metadata": {
    "collapsed": false,
    "jupyter": {
     "outputs_hidden": false
    }
   },
   "source": [
    "## Final Project\n",
    "\n",
    "- Main Questions:\n",
    "We aim to understand the correlation between the timing of Twitter account creation and\n",
    "the level of engagement regarding current events in the platform. This could help us determine\n",
    "if certain world events, such as the COVID-19 pandemic or the #BLM movement, influenced the creation of new\n",
    "accounts or if accounts created during specific periods are more active in discussing \"hot topics\".\n",
    "\n",
    "- Data Resources:\n",
    "We would be using the *acc_age* field, which represents the age of the accounts in days and\n",
    "the verified status to measure credibility which potentially affects the account’s engagement\n",
    "and reach. Additionally, by using the accounts’ creation date, we can categorize the accounts\n",
    "by year and find in which year/period were created the highest number of accounts. This\n",
    "could help us determine if accounts created during the pandemic were more engaged in\n",
    "COVID-19 related tweets than older accounts or vice versa. Other relevant fields include\n",
    "date, which indicates when each tweet was posted, allowing us to temporally analyze tweet\n",
    "volume over time. Finally, we would have engagement metrics like rt rt count (retweet\n",
    "count), rt reply count (reply count), and rt fav count (like count), which will help us measure\n",
    "the influence and reach of the tweets from these accounts. By looking at these data fields, we\n",
    "can understand how Twitter accounts created at different times contribute to the discourse\n",
    "on COVID-19, exploring whether significant world events like the pandemic have increased\n",
    "account creations or if these newly created accounts engage differently with the topic.\n",
    "---------------------------------------------------------------------------------------------------------------------------------------------"
   ]
  },
  {
   "cell_type": "markdown",
   "id": "0dabd9f7-77c7-45f5-a5bd-43bb415ca5cd",
   "metadata": {},
   "source": [
    "## Plan\n",
    "\n",
    "1. Find first occurrence of each hashtag and compare it to the first news article about the hate crimes\n",
    "2. With acc_age and account_creation_date, create a time series analysis plot to assess how many accounts were created pre- and post- the first occurrence of the hashtag *#COVID* / *#BLM* / *#StopAsianHate* - answer the question **What is the relationship between the onset of these current events and the creation of twitter accounts?**\n",
    "4. Create a time series analysis plot to assess the volume of tweets for each over time (assesing any relationship between tweeting and world events) - answer the question **What is the relationship between the onset of these current events and the volume of tweets?**\n",
    "5. Use sentiment analysis to assess the sentiments of the tweets surrounding these current events - answer the question **What is the language of these tweets?**\n",
    "6. Using the bot dictionary (Professor Chang is sending us a dictionary of bots) are any of these tweets - answer the question **How credible are the accounts tweeting about these current events?**\n",
    "---------------------------------------------------------------------------------------------------------------------------------------------"
   ]
  },
  {
   "cell_type": "markdown",
   "id": "cf87001d-73b6-45cc-9633-47082ad87bbd",
   "metadata": {},
   "source": [
    "### 00A. Exploring the Data\n",
    "What is the data we're looking at?"
   ]
  },
  {
   "cell_type": "code",
   "execution_count": 55,
   "id": "69f8a5c3-612d-44f1-9c61-4911dcbca631",
   "metadata": {
    "ExecuteTime": {
     "end_time": "2024-05-17T08:36:47.240248Z",
     "start_time": "2024-05-17T08:36:46.242723Z"
    },
    "collapsed": false,
    "jupyter": {
     "outputs_hidden": false
    }
   },
   "outputs": [],
   "source": [
    "import pickle\n",
    "import pandas as pd\n",
    "import numpy as np\n",
    "import matplotlib.pyplot as plt\n",
    "from datetime import datetime\n",
    "\n",
    "#Insert YOUR path to data\n",
    "pickle = \"/Users/emmanguyen/Downloads/BLM_StopAsianHate.pkl\"\n",
    "data = pd.read_pickle(pickle)"
   ]
  },
  {
   "cell_type": "code",
   "execution_count": 57,
   "id": "46238f7c-ae43-4736-afe8-84098438d3e8",
   "metadata": {},
   "outputs": [
    {
     "name": "stdout",
     "output_type": "stream",
     "text": [
      "<class 'pandas.core.frame.DataFrame'>\n",
      "Index: 1678460 entries, 1771 to 174882\n",
      "Data columns (total 77 columns):\n",
      " #   Column                 Non-Null Count    Dtype              \n",
      "---  ------                 --------------    -----              \n",
      " 0   tweetid                1678460 non-null  int64              \n",
      " 1   userid                 1678460 non-null  int64              \n",
      " 2   screen_name            1678460 non-null  object             \n",
      " 3   date                   1678460 non-null  datetime64[ns, UTC]\n",
      " 4   lang                   1678460 non-null  object             \n",
      " 5   location               1023285 non-null  object             \n",
      " 6   place_id               12259 non-null    object             \n",
      " 7   place_url              12259 non-null    object             \n",
      " 8   place_type             12259 non-null    object             \n",
      " 9   place_name             12259 non-null    object             \n",
      " 10  place_full_name        12259 non-null    object             \n",
      " 11  place_country_code     12247 non-null    object             \n",
      " 12  place_country          12251 non-null    object             \n",
      " 13  place_bounding_box     12259 non-null    object             \n",
      " 14  text                   1678460 non-null  object             \n",
      " 15  extended               1678460 non-null  object             \n",
      " 16  coord                  542 non-null      object             \n",
      " 17  reply_userid           240025 non-null   float64            \n",
      " 18  reply_screen           240025 non-null   object             \n",
      " 19  reply_statusid         240025 non-null   float64            \n",
      " 20  tweet_type             1678460 non-null  object             \n",
      " 21  friends_count          1678460 non-null  int64              \n",
      " 22  listed_count           1678460 non-null  float64            \n",
      " 23  followers_count        1678460 non-null  int64              \n",
      " 24  favourites_count       1678460 non-null  int64              \n",
      " 25  statuses_count         1678460 non-null  int64              \n",
      " 26  verified               1678460 non-null  bool               \n",
      " 27  hashtag                1678460 non-null  object             \n",
      " 28  urls_list              1678460 non-null  object             \n",
      " 29  profile_pic_url        1311563 non-null  object             \n",
      " 30  profile_banner_url     1311563 non-null  object             \n",
      " 31  display_name           1678384 non-null  object             \n",
      " 32  date_first_tweet       1678460 non-null  object             \n",
      " 33  account_creation_date  1678460 non-null  object             \n",
      " 34  rt_urls_list           1678460 non-null  object             \n",
      " 35  mentionid              1678460 non-null  object             \n",
      " 36  mentionsn              1678460 non-null  object             \n",
      " 37  rt_screen              927556 non-null   object             \n",
      " 38  rt_userid              927556 non-null   float64            \n",
      " 39  rt_text                1111362 non-null  object             \n",
      " 40  rt_hashtag             1678460 non-null  object             \n",
      " 41  rt_qtd_count           1678460 non-null  int64              \n",
      " 42  rt_rt_count            1678460 non-null  float64            \n",
      " 43  rt_reply_count         1678460 non-null  float64            \n",
      " 44  rt_fav_count           1678460 non-null  float64            \n",
      " 45  rt_tweetid             1111362 non-null  float64            \n",
      " 46  rt_location            725519 non-null   object             \n",
      " 47  qtd_screen             279316 non-null   object             \n",
      " 48  qtd_userid             279316 non-null   float64            \n",
      " 49  qtd_text               285887 non-null   object             \n",
      " 50  qtd_hashtag            1678460 non-null  object             \n",
      " 51  qtd_qtd_count          1678460 non-null  int64              \n",
      " 52  qtd_rt_count           1678459 non-null  float64            \n",
      " 53  qtd_reply_count        1678459 non-null  float64            \n",
      " 54  qtd_fav_count          1678459 non-null  float64            \n",
      " 55  qtd_tweetid            285887 non-null   float64            \n",
      " 56  qtd_urls_list          1678460 non-null  object             \n",
      " 57  qtd_location           225680 non-null   object             \n",
      " 58  sent_vader             1678460 non-null  float64            \n",
      " 59  token                  1677598 non-null  object             \n",
      " 60  media_urls             1678460 non-null  object             \n",
      " 61  rt_media_urls          1678460 non-null  object             \n",
      " 62  q_media_urls           1678460 non-null  object             \n",
      " 63  state                  365639 non-null   object             \n",
      " 64  country                636181 non-null   object             \n",
      " 65  rt_state               299368 non-null   object             \n",
      " 66  rt_country             443102 non-null   object             \n",
      " 67  qtd_state              123073 non-null   object             \n",
      " 68  qtd_country            178632 non-null   object             \n",
      " 69  norm_country           636181 non-null   object             \n",
      " 70  norm_rt_country        443102 non-null   object             \n",
      " 71  norm_qtd_country       178632 non-null   object             \n",
      " 72  is_kw                  1678460 non-null  bool               \n",
      " 73  description            359581 non-null   object             \n",
      " 74  rt_user_description    185645 non-null   object             \n",
      " 75  qtd_user_description   74079 non-null    object             \n",
      " 76  acc_age                272712 non-null   float64            \n",
      "dtypes: bool(2), datetime64[ns, UTC](1), float64(15), int64(8), object(51)\n",
      "memory usage: 976.4+ MB\n"
     ]
    },
    {
     "data": {
      "text/html": [
       "<div>\n",
       "<style scoped>\n",
       "    .dataframe tbody tr th:only-of-type {\n",
       "        vertical-align: middle;\n",
       "    }\n",
       "\n",
       "    .dataframe tbody tr th {\n",
       "        vertical-align: top;\n",
       "    }\n",
       "\n",
       "    .dataframe thead th {\n",
       "        text-align: right;\n",
       "    }\n",
       "</style>\n",
       "<table border=\"1\" class=\"dataframe\">\n",
       "  <thead>\n",
       "    <tr style=\"text-align: right;\">\n",
       "      <th></th>\n",
       "      <th>tweetid</th>\n",
       "      <th>userid</th>\n",
       "      <th>screen_name</th>\n",
       "      <th>date</th>\n",
       "      <th>lang</th>\n",
       "      <th>location</th>\n",
       "      <th>place_id</th>\n",
       "      <th>place_url</th>\n",
       "      <th>place_type</th>\n",
       "      <th>place_name</th>\n",
       "      <th>...</th>\n",
       "      <th>qtd_state</th>\n",
       "      <th>qtd_country</th>\n",
       "      <th>norm_country</th>\n",
       "      <th>norm_rt_country</th>\n",
       "      <th>norm_qtd_country</th>\n",
       "      <th>is_kw</th>\n",
       "      <th>description</th>\n",
       "      <th>rt_user_description</th>\n",
       "      <th>qtd_user_description</th>\n",
       "      <th>acc_age</th>\n",
       "    </tr>\n",
       "  </thead>\n",
       "  <tbody>\n",
       "    <tr>\n",
       "      <th>1771</th>\n",
       "      <td>1220644546771591168</td>\n",
       "      <td>95655465</td>\n",
       "      <td>shaunrein</td>\n",
       "      <td>2020-01-24 09:48:33+00:00</td>\n",
       "      <td>en</td>\n",
       "      <td>Shanghai (8621) 6326-9991 info@researchcmr.com</td>\n",
       "      <td>NaN</td>\n",
       "      <td>NaN</td>\n",
       "      <td>NaN</td>\n",
       "      <td>NaN</td>\n",
       "      <td>...</td>\n",
       "      <td>NaN</td>\n",
       "      <td>NaN</td>\n",
       "      <td>NaN</td>\n",
       "      <td>NaN</td>\n",
       "      <td>NaN</td>\n",
       "      <td>True</td>\n",
       "      <td>NaN</td>\n",
       "      <td>NaN</td>\n",
       "      <td>NaN</td>\n",
       "      <td>NaN</td>\n",
       "    </tr>\n",
       "    <tr>\n",
       "      <th>10596</th>\n",
       "      <td>1220646659052326914</td>\n",
       "      <td>901844487315406850</td>\n",
       "      <td>friendofwinter</td>\n",
       "      <td>2020-01-24 09:56:56+00:00</td>\n",
       "      <td>en</td>\n",
       "      <td>bts, blackpink, and girlgroups</td>\n",
       "      <td>NaN</td>\n",
       "      <td>NaN</td>\n",
       "      <td>NaN</td>\n",
       "      <td>NaN</td>\n",
       "      <td>...</td>\n",
       "      <td>NaN</td>\n",
       "      <td>NaN</td>\n",
       "      <td>NaN</td>\n",
       "      <td>Switzerland</td>\n",
       "      <td>NaN</td>\n",
       "      <td>True</td>\n",
       "      <td>NaN</td>\n",
       "      <td>NaN</td>\n",
       "      <td>NaN</td>\n",
       "      <td>NaN</td>\n",
       "    </tr>\n",
       "    <tr>\n",
       "      <th>11024</th>\n",
       "      <td>1220646239630315520</td>\n",
       "      <td>1110768577953460226</td>\n",
       "      <td>JENDERALISA</td>\n",
       "      <td>2020-01-24 09:55:16+00:00</td>\n",
       "      <td>en</td>\n",
       "      <td>NaN</td>\n",
       "      <td>NaN</td>\n",
       "      <td>NaN</td>\n",
       "      <td>NaN</td>\n",
       "      <td>NaN</td>\n",
       "      <td>...</td>\n",
       "      <td>NaN</td>\n",
       "      <td>NaN</td>\n",
       "      <td>NaN</td>\n",
       "      <td>Switzerland</td>\n",
       "      <td>NaN</td>\n",
       "      <td>True</td>\n",
       "      <td>NaN</td>\n",
       "      <td>NaN</td>\n",
       "      <td>NaN</td>\n",
       "      <td>NaN</td>\n",
       "    </tr>\n",
       "    <tr>\n",
       "      <th>13401</th>\n",
       "      <td>1220643783286644736</td>\n",
       "      <td>2530100864</td>\n",
       "      <td>MSasisom</td>\n",
       "      <td>2020-01-24 09:45:31+00:00</td>\n",
       "      <td>en</td>\n",
       "      <td>NaN</td>\n",
       "      <td>NaN</td>\n",
       "      <td>NaN</td>\n",
       "      <td>NaN</td>\n",
       "      <td>NaN</td>\n",
       "      <td>...</td>\n",
       "      <td>NaN</td>\n",
       "      <td>NaN</td>\n",
       "      <td>NaN</td>\n",
       "      <td>Switzerland</td>\n",
       "      <td>NaN</td>\n",
       "      <td>True</td>\n",
       "      <td>NaN</td>\n",
       "      <td>NaN</td>\n",
       "      <td>NaN</td>\n",
       "      <td>NaN</td>\n",
       "    </tr>\n",
       "    <tr>\n",
       "      <th>14390</th>\n",
       "      <td>1220642807930478592</td>\n",
       "      <td>150572999</td>\n",
       "      <td>jackrizley</td>\n",
       "      <td>2020-01-24 09:41:38+00:00</td>\n",
       "      <td>en</td>\n",
       "      <td>Bangkok, Thailand</td>\n",
       "      <td>NaN</td>\n",
       "      <td>NaN</td>\n",
       "      <td>NaN</td>\n",
       "      <td>NaN</td>\n",
       "      <td>...</td>\n",
       "      <td>NaN</td>\n",
       "      <td>NaN</td>\n",
       "      <td>Thailand</td>\n",
       "      <td>Switzerland</td>\n",
       "      <td>NaN</td>\n",
       "      <td>True</td>\n",
       "      <td>NaN</td>\n",
       "      <td>NaN</td>\n",
       "      <td>NaN</td>\n",
       "      <td>NaN</td>\n",
       "    </tr>\n",
       "    <tr>\n",
       "      <th>15547</th>\n",
       "      <td>1220641695651389440</td>\n",
       "      <td>859287999539929090</td>\n",
       "      <td>zqmkni</td>\n",
       "      <td>2020-01-24 09:37:13+00:00</td>\n",
       "      <td>en</td>\n",
       "      <td>ty track’s heart</td>\n",
       "      <td>NaN</td>\n",
       "      <td>NaN</td>\n",
       "      <td>NaN</td>\n",
       "      <td>NaN</td>\n",
       "      <td>...</td>\n",
       "      <td>NaN</td>\n",
       "      <td>NaN</td>\n",
       "      <td>NaN</td>\n",
       "      <td>Switzerland</td>\n",
       "      <td>NaN</td>\n",
       "      <td>True</td>\n",
       "      <td>NaN</td>\n",
       "      <td>NaN</td>\n",
       "      <td>NaN</td>\n",
       "      <td>NaN</td>\n",
       "    </tr>\n",
       "    <tr>\n",
       "      <th>15708</th>\n",
       "      <td>1220641540063649794</td>\n",
       "      <td>1054619120753242113</td>\n",
       "      <td>TheVandelay</td>\n",
       "      <td>2020-01-24 09:36:36+00:00</td>\n",
       "      <td>en</td>\n",
       "      <td>Hell</td>\n",
       "      <td>NaN</td>\n",
       "      <td>NaN</td>\n",
       "      <td>NaN</td>\n",
       "      <td>NaN</td>\n",
       "      <td>...</td>\n",
       "      <td>NaN</td>\n",
       "      <td>NaN</td>\n",
       "      <td>NaN</td>\n",
       "      <td>NaN</td>\n",
       "      <td>NaN</td>\n",
       "      <td>True</td>\n",
       "      <td>NaN</td>\n",
       "      <td>NaN</td>\n",
       "      <td>NaN</td>\n",
       "      <td>NaN</td>\n",
       "    </tr>\n",
       "    <tr>\n",
       "      <th>16099</th>\n",
       "      <td>1220641114576699392</td>\n",
       "      <td>4363890732</td>\n",
       "      <td>phiisu_</td>\n",
       "      <td>2020-01-24 09:34:54+00:00</td>\n",
       "      <td>en</td>\n",
       "      <td>NaN</td>\n",
       "      <td>NaN</td>\n",
       "      <td>NaN</td>\n",
       "      <td>NaN</td>\n",
       "      <td>NaN</td>\n",
       "      <td>...</td>\n",
       "      <td>NaN</td>\n",
       "      <td>NaN</td>\n",
       "      <td>NaN</td>\n",
       "      <td>Switzerland</td>\n",
       "      <td>NaN</td>\n",
       "      <td>True</td>\n",
       "      <td>NaN</td>\n",
       "      <td>NaN</td>\n",
       "      <td>NaN</td>\n",
       "      <td>NaN</td>\n",
       "    </tr>\n",
       "    <tr>\n",
       "      <th>16470</th>\n",
       "      <td>1220640742097342464</td>\n",
       "      <td>1694181907</td>\n",
       "      <td>i_Aeoy</td>\n",
       "      <td>2020-01-24 09:33:25+00:00</td>\n",
       "      <td>en</td>\n",
       "      <td>Thailand,Chonburi</td>\n",
       "      <td>NaN</td>\n",
       "      <td>NaN</td>\n",
       "      <td>NaN</td>\n",
       "      <td>NaN</td>\n",
       "      <td>...</td>\n",
       "      <td>NaN</td>\n",
       "      <td>NaN</td>\n",
       "      <td>NaN</td>\n",
       "      <td>Switzerland</td>\n",
       "      <td>NaN</td>\n",
       "      <td>True</td>\n",
       "      <td>NaN</td>\n",
       "      <td>NaN</td>\n",
       "      <td>NaN</td>\n",
       "      <td>NaN</td>\n",
       "    </tr>\n",
       "    <tr>\n",
       "      <th>17427</th>\n",
       "      <td>1220639678631727105</td>\n",
       "      <td>966319144315449349</td>\n",
       "      <td>IC_muchie</td>\n",
       "      <td>2020-01-24 09:29:12+00:00</td>\n",
       "      <td>en</td>\n",
       "      <td>India</td>\n",
       "      <td>NaN</td>\n",
       "      <td>NaN</td>\n",
       "      <td>NaN</td>\n",
       "      <td>NaN</td>\n",
       "      <td>...</td>\n",
       "      <td>NaN</td>\n",
       "      <td>NaN</td>\n",
       "      <td>India</td>\n",
       "      <td>Switzerland</td>\n",
       "      <td>NaN</td>\n",
       "      <td>True</td>\n",
       "      <td>NaN</td>\n",
       "      <td>NaN</td>\n",
       "      <td>NaN</td>\n",
       "      <td>NaN</td>\n",
       "    </tr>\n",
       "    <tr>\n",
       "      <th>18477</th>\n",
       "      <td>1220638607569977344</td>\n",
       "      <td>258415882</td>\n",
       "      <td>BerniceCBC</td>\n",
       "      <td>2020-01-24 09:24:57+00:00</td>\n",
       "      <td>en</td>\n",
       "      <td>Corner Brook, NL</td>\n",
       "      <td>NaN</td>\n",
       "      <td>NaN</td>\n",
       "      <td>NaN</td>\n",
       "      <td>NaN</td>\n",
       "      <td>...</td>\n",
       "      <td>NaN</td>\n",
       "      <td>NaN</td>\n",
       "      <td>NaN</td>\n",
       "      <td>Switzerland</td>\n",
       "      <td>NaN</td>\n",
       "      <td>True</td>\n",
       "      <td>NaN</td>\n",
       "      <td>NaN</td>\n",
       "      <td>NaN</td>\n",
       "      <td>NaN</td>\n",
       "    </tr>\n",
       "    <tr>\n",
       "      <th>18987</th>\n",
       "      <td>1220638024498724864</td>\n",
       "      <td>1096167035137024000</td>\n",
       "      <td>Teal96ko</td>\n",
       "      <td>2020-01-24 09:22:38+00:00</td>\n",
       "      <td>en</td>\n",
       "      <td>Winner City, Winner Wonderland</td>\n",
       "      <td>NaN</td>\n",
       "      <td>NaN</td>\n",
       "      <td>NaN</td>\n",
       "      <td>NaN</td>\n",
       "      <td>...</td>\n",
       "      <td>NaN</td>\n",
       "      <td>NaN</td>\n",
       "      <td>NaN</td>\n",
       "      <td>Switzerland</td>\n",
       "      <td>NaN</td>\n",
       "      <td>True</td>\n",
       "      <td>NaN</td>\n",
       "      <td>NaN</td>\n",
       "      <td>NaN</td>\n",
       "      <td>NaN</td>\n",
       "    </tr>\n",
       "    <tr>\n",
       "      <th>20371</th>\n",
       "      <td>1220636534476439553</td>\n",
       "      <td>364117556</td>\n",
       "      <td>ukukuk_21</td>\n",
       "      <td>2020-01-24 09:16:42+00:00</td>\n",
       "      <td>en</td>\n",
       "      <td>เช็คสถานะ 👉🏻</td>\n",
       "      <td>NaN</td>\n",
       "      <td>NaN</td>\n",
       "      <td>NaN</td>\n",
       "      <td>NaN</td>\n",
       "      <td>...</td>\n",
       "      <td>NaN</td>\n",
       "      <td>NaN</td>\n",
       "      <td>NaN</td>\n",
       "      <td>Switzerland</td>\n",
       "      <td>NaN</td>\n",
       "      <td>True</td>\n",
       "      <td>NaN</td>\n",
       "      <td>NaN</td>\n",
       "      <td>NaN</td>\n",
       "      <td>NaN</td>\n",
       "    </tr>\n",
       "    <tr>\n",
       "      <th>20708</th>\n",
       "      <td>1220636173946634240</td>\n",
       "      <td>999611828</td>\n",
       "      <td>NotEvilOctopus</td>\n",
       "      <td>2020-01-24 09:15:16+00:00</td>\n",
       "      <td>en</td>\n",
       "      <td>Dark depths of the ocean</td>\n",
       "      <td>NaN</td>\n",
       "      <td>NaN</td>\n",
       "      <td>NaN</td>\n",
       "      <td>NaN</td>\n",
       "      <td>...</td>\n",
       "      <td>NaN</td>\n",
       "      <td>NaN</td>\n",
       "      <td>NaN</td>\n",
       "      <td>Switzerland</td>\n",
       "      <td>NaN</td>\n",
       "      <td>True</td>\n",
       "      <td>NaN</td>\n",
       "      <td>NaN</td>\n",
       "      <td>NaN</td>\n",
       "      <td>NaN</td>\n",
       "    </tr>\n",
       "    <tr>\n",
       "      <th>21418</th>\n",
       "      <td>1220635410096893952</td>\n",
       "      <td>2865086833</td>\n",
       "      <td>viralvm69</td>\n",
       "      <td>2020-01-24 09:12:14+00:00</td>\n",
       "      <td>en</td>\n",
       "      <td>Mumbai, India</td>\n",
       "      <td>NaN</td>\n",
       "      <td>NaN</td>\n",
       "      <td>NaN</td>\n",
       "      <td>NaN</td>\n",
       "      <td>...</td>\n",
       "      <td>NaN</td>\n",
       "      <td>NaN</td>\n",
       "      <td>India</td>\n",
       "      <td>Switzerland</td>\n",
       "      <td>NaN</td>\n",
       "      <td>True</td>\n",
       "      <td>NaN</td>\n",
       "      <td>NaN</td>\n",
       "      <td>NaN</td>\n",
       "      <td>NaN</td>\n",
       "    </tr>\n",
       "  </tbody>\n",
       "</table>\n",
       "<p>15 rows × 77 columns</p>\n",
       "</div>"
      ],
      "text/plain": [
       "                   tweetid               userid     screen_name  \\\n",
       "1771   1220644546771591168             95655465       shaunrein   \n",
       "10596  1220646659052326914   901844487315406850  friendofwinter   \n",
       "11024  1220646239630315520  1110768577953460226     JENDERALISA   \n",
       "13401  1220643783286644736           2530100864        MSasisom   \n",
       "14390  1220642807930478592            150572999      jackrizley   \n",
       "15547  1220641695651389440   859287999539929090          zqmkni   \n",
       "15708  1220641540063649794  1054619120753242113     TheVandelay   \n",
       "16099  1220641114576699392           4363890732         phiisu_   \n",
       "16470  1220640742097342464           1694181907          i_Aeoy   \n",
       "17427  1220639678631727105   966319144315449349       IC_muchie   \n",
       "18477  1220638607569977344            258415882      BerniceCBC   \n",
       "18987  1220638024498724864  1096167035137024000        Teal96ko   \n",
       "20371  1220636534476439553            364117556       ukukuk_21   \n",
       "20708  1220636173946634240            999611828  NotEvilOctopus   \n",
       "21418  1220635410096893952           2865086833       viralvm69   \n",
       "\n",
       "                           date lang  \\\n",
       "1771  2020-01-24 09:48:33+00:00   en   \n",
       "10596 2020-01-24 09:56:56+00:00   en   \n",
       "11024 2020-01-24 09:55:16+00:00   en   \n",
       "13401 2020-01-24 09:45:31+00:00   en   \n",
       "14390 2020-01-24 09:41:38+00:00   en   \n",
       "15547 2020-01-24 09:37:13+00:00   en   \n",
       "15708 2020-01-24 09:36:36+00:00   en   \n",
       "16099 2020-01-24 09:34:54+00:00   en   \n",
       "16470 2020-01-24 09:33:25+00:00   en   \n",
       "17427 2020-01-24 09:29:12+00:00   en   \n",
       "18477 2020-01-24 09:24:57+00:00   en   \n",
       "18987 2020-01-24 09:22:38+00:00   en   \n",
       "20371 2020-01-24 09:16:42+00:00   en   \n",
       "20708 2020-01-24 09:15:16+00:00   en   \n",
       "21418 2020-01-24 09:12:14+00:00   en   \n",
       "\n",
       "                                             location place_id place_url  \\\n",
       "1771   Shanghai (8621) 6326-9991 info@researchcmr.com      NaN       NaN   \n",
       "10596                  bts, blackpink, and girlgroups      NaN       NaN   \n",
       "11024                                             NaN      NaN       NaN   \n",
       "13401                                             NaN      NaN       NaN   \n",
       "14390                               Bangkok, Thailand      NaN       NaN   \n",
       "15547                                ty track’s heart      NaN       NaN   \n",
       "15708                                            Hell      NaN       NaN   \n",
       "16099                                             NaN      NaN       NaN   \n",
       "16470                               Thailand,Chonburi      NaN       NaN   \n",
       "17427                                           India      NaN       NaN   \n",
       "18477                                Corner Brook, NL      NaN       NaN   \n",
       "18987                  Winner City, Winner Wonderland      NaN       NaN   \n",
       "20371                                    เช็คสถานะ 👉🏻      NaN       NaN   \n",
       "20708                        Dark depths of the ocean      NaN       NaN   \n",
       "21418                                   Mumbai, India      NaN       NaN   \n",
       "\n",
       "      place_type place_name  ... qtd_state qtd_country norm_country  \\\n",
       "1771         NaN        NaN  ...       NaN         NaN          NaN   \n",
       "10596        NaN        NaN  ...       NaN         NaN          NaN   \n",
       "11024        NaN        NaN  ...       NaN         NaN          NaN   \n",
       "13401        NaN        NaN  ...       NaN         NaN          NaN   \n",
       "14390        NaN        NaN  ...       NaN         NaN     Thailand   \n",
       "15547        NaN        NaN  ...       NaN         NaN          NaN   \n",
       "15708        NaN        NaN  ...       NaN         NaN          NaN   \n",
       "16099        NaN        NaN  ...       NaN         NaN          NaN   \n",
       "16470        NaN        NaN  ...       NaN         NaN          NaN   \n",
       "17427        NaN        NaN  ...       NaN         NaN        India   \n",
       "18477        NaN        NaN  ...       NaN         NaN          NaN   \n",
       "18987        NaN        NaN  ...       NaN         NaN          NaN   \n",
       "20371        NaN        NaN  ...       NaN         NaN          NaN   \n",
       "20708        NaN        NaN  ...       NaN         NaN          NaN   \n",
       "21418        NaN        NaN  ...       NaN         NaN        India   \n",
       "\n",
       "      norm_rt_country norm_qtd_country is_kw description  rt_user_description  \\\n",
       "1771              NaN              NaN  True         NaN                  NaN   \n",
       "10596     Switzerland              NaN  True         NaN                  NaN   \n",
       "11024     Switzerland              NaN  True         NaN                  NaN   \n",
       "13401     Switzerland              NaN  True         NaN                  NaN   \n",
       "14390     Switzerland              NaN  True         NaN                  NaN   \n",
       "15547     Switzerland              NaN  True         NaN                  NaN   \n",
       "15708             NaN              NaN  True         NaN                  NaN   \n",
       "16099     Switzerland              NaN  True         NaN                  NaN   \n",
       "16470     Switzerland              NaN  True         NaN                  NaN   \n",
       "17427     Switzerland              NaN  True         NaN                  NaN   \n",
       "18477     Switzerland              NaN  True         NaN                  NaN   \n",
       "18987     Switzerland              NaN  True         NaN                  NaN   \n",
       "20371     Switzerland              NaN  True         NaN                  NaN   \n",
       "20708     Switzerland              NaN  True         NaN                  NaN   \n",
       "21418     Switzerland              NaN  True         NaN                  NaN   \n",
       "\n",
       "      qtd_user_description  acc_age  \n",
       "1771                   NaN      NaN  \n",
       "10596                  NaN      NaN  \n",
       "11024                  NaN      NaN  \n",
       "13401                  NaN      NaN  \n",
       "14390                  NaN      NaN  \n",
       "15547                  NaN      NaN  \n",
       "15708                  NaN      NaN  \n",
       "16099                  NaN      NaN  \n",
       "16470                  NaN      NaN  \n",
       "17427                  NaN      NaN  \n",
       "18477                  NaN      NaN  \n",
       "18987                  NaN      NaN  \n",
       "20371                  NaN      NaN  \n",
       "20708                  NaN      NaN  \n",
       "21418                  NaN      NaN  \n",
       "\n",
       "[15 rows x 77 columns]"
      ]
     },
     "execution_count": 57,
     "metadata": {},
     "output_type": "execute_result"
    }
   ],
   "source": [
    "data.info()\n",
    "data.head(15)"
   ]
  },
  {
   "cell_type": "markdown",
   "id": "9012d461-1ca1-4765-a507-b151474e896f",
   "metadata": {},
   "source": [
    "### 00B. Converting important columns\n",
    "Create a YMD column of just the year, month, and date of tweet posted."
   ]
  },
  {
   "cell_type": "code",
   "execution_count": 26,
   "id": "3b074bc8-7627-4250-97e5-119260a8770b",
   "metadata": {},
   "outputs": [],
   "source": [
    "#Creating Datetime column of just Year, Month, Date\n",
    "\n",
    "# Reformat the dates to 'YYYY-MM-DD'\n",
    "data['date_ymd'] = data['date'].dt.strftime('%Y-%m-%d')\n",
    "\n",
    "# Convert 'date2' back to datetime type\n",
    "data['date_ymd'] = pd.to_datetime(data['date_ymd'], format='%Y-%m-%d')"
   ]
  },
  {
   "cell_type": "markdown",
   "id": "5ea50df5-58d1-422b-ba68-faae9da0822e",
   "metadata": {},
   "source": [
    "---------------------------------------------------------------------------------------------------------------------------------------------"
   ]
  },
  {
   "cell_type": "markdown",
   "id": "bb81e7ab-f941-4970-9333-7c5a7f07b488",
   "metadata": {},
   "source": [
    "### 01. Find first occurrence of each hashtag and compare it to the first news article about the hate crimes."
   ]
  },
  {
   "cell_type": "markdown",
   "id": "9e52c425-be7a-4e49-a393-bea688e8ba10",
   "metadata": {},
   "source": [
    "#### 01A. Exploring hashtags\n",
    "\n",
    "For #stopasianhate, there are many variations of anti-asian racism occurences. We wanted to search to see the variations of anti-asian racism. For COVID-19, we found most hashtags contain \"covid\" or \"coronavirus\". For BLM, we chose \"blm\" and \"blacklives\"."
   ]
  },
  {
   "cell_type": "code",
   "execution_count": 35,
   "id": "fa64c81a-a246-403d-afda-77787ab4460e",
   "metadata": {},
   "outputs": [],
   "source": [
    "testblm = data[data[\"hashtag\"].str.contains(\"black|blm\", case = False, na = False)]\n",
    "testingblm = testblm[[\"hashtag\", \"date_ymd\", \"text\"]].sort_values(by = \"date_ymd\").reset_index()\n",
    "\n",
    "testasian = data[data[\"hashtag\"].str.contains(\"asian|yellow\", case = False, na = False)]\n",
    "testingasian = testasian[[\"hashtag\", \"date_ymd\", \"text\"]].sort_values(by = \"date_ymd\").reset_index()\n",
    "\n",
    "testcovid = data[data[\"hashtag\"].str.contains(\"covid|coronavirus\", case = False, na = False)]\n",
    "testingcovid = testcovid[[\"hashtag\", \"date_ymd\", \"text\"]].sort_values(by = \"date_ymd\").reset_index()"
   ]
  },
  {
   "cell_type": "code",
   "execution_count": 37,
   "id": "03a1f317-9e26-491a-8002-177dd967e63d",
   "metadata": {
    "scrolled": true
   },
   "outputs": [
    {
     "name": "stdout",
     "output_type": "stream",
     "text": [
      "RT @Coronachan1: @MisterAntiBully I went there and coughed on blacks so people couldn't call me racist. #sjw #coronavirus #BlackLivesMatter\n",
      "Think Asians have it bad? Try being Black in China right now! #IStandWithAsianAustralians #UnityOverFear  #AfricansinChina #racismfromchina #chinaracism #racism  #chinaisracist #RacismInChina #AfricansInGuangzhou  #AfricanLivesMatter #BlackLivesMatter https://t.co/wDsLCgjjOD\n",
      "RT @WHO: @DrTedros Reduce your risk of #coronavirus infection https://t.co/PKzKaO2yfK https://t.co/bLmr4z3y1t\n"
     ]
    }
   ],
   "source": [
    "print(testingblm.iloc[3, 3])\n",
    "print(testingasian.iloc[3, 3])\n",
    "print(testingcovid.iloc[3, 3])"
   ]
  },
  {
   "cell_type": "markdown",
   "id": "b5074674-8b68-4ecb-9028-d14168c8fe21",
   "metadata": {},
   "source": [
    "#### 01B. Defining a function to find the first occurrence within each hashtag subset\n",
    "\n",
    "This variable will be used for comparison."
   ]
  },
  {
   "cell_type": "code",
   "execution_count": 40,
   "id": "b3dd9348-abdd-4b37-b79f-dd33ec508701",
   "metadata": {},
   "outputs": [],
   "source": [
    "#hashtag: takes in a list of strings of hashtags\n",
    "def first_hashtag(hashtag, df):\n",
    "\n",
    "    #select cols and sort them by date\n",
    "    sorted = df[[\"date_ymd\", \"text\", \"hashtag\"]].sort_values(by = 'date_ymd')\n",
    "\n",
    "    #df that contains tweets with the hashtags\n",
    "    search_terms = \"|\".join(hashtag)\n",
    "    terms_df = sorted[sorted['hashtag'].str.contains(search_terms, case = False, na = False)]\n",
    "    \n",
    "    #select just the first occurrence per day\n",
    "    first_occurrences = terms_df.drop_duplicates(subset = 'hashtag', keep = 'first').reset_index()\n",
    "    first_date = first_occurrences.iloc[0, 1]\n",
    "    \n",
    "    return first_date, terms_df"
   ]
  },
  {
   "cell_type": "code",
   "execution_count": 42,
   "id": "d613d875-e2a4-49f9-9728-dc3fe6e9706f",
   "metadata": {},
   "outputs": [
    {
     "name": "stdout",
     "output_type": "stream",
     "text": [
      "2020-01-27 00:00:00\n",
      "2020-01-23 00:00:00\n",
      "2020-02-05 00:00:00\n"
     ]
    }
   ],
   "source": [
    "blm_first = first_hashtag([\"blm\", \"blacklives\"], data)\n",
    "print(blm_first[0])\n",
    "\n",
    "covid_first = first_hashtag([\"covid\", \"coronavirus\"], data)\n",
    "print(covid_first[0])\n",
    "\n",
    "sah_first = first_hashtag([\"stopasianhate\", \"yellowlives\", \"asianlives\"], data)\n",
    "print(sah_first[0])"
   ]
  },
  {
   "cell_type": "markdown",
   "id": "5f0b5c6e-894a-41b5-b4de-fbb342043ae4",
   "metadata": {},
   "source": [
    "* First occurrence of #BLM-related hashtags: 2020-01-27 (January 27 2020)\n",
    "* First occurrence of #COVID-19-related hashtage: 2020-01-23 (January 23 2020)\n",
    "* First occurrence of #StopAsianHate-related hashtags: 2020-02-05 (February 5 2020)\n",
    "\n",
    "To compare with news articles and timelines:\n",
    "\n",
    "* [CDC COVID-19 Timeline](https://www.cdc.gov/museum/timeline/covid19.html) \n",
    "* [Georgetown BLM Timeline](https://repository.library.georgetown.edu/bitstream/handle/10822/1040691/Black%20Lives%20Matter%20Timeline%20.pdf?sequence=1)\n",
    "* [Stop AAPI Hate Project's Origins](https://stopaapihate.org/our-origins/)\n",
    "* [Anti-Asian Hate Crime During the COVID-19 Pandemic: Exploring the Reproduction of Inequality](https://www.ncbi.nlm.nih.gov/pmc/articles/PMC7364747/)\n",
    "* [Vox Article on Stop Asian Hate Movement's Trajectory](https://www.vox.com/22820364/stop-asian-hate-movement-atlanta-shootings)\n",
    "\n",
    "---------------------------------------------------------------------------------------------------------------------------------------------"
   ]
  },
  {
   "cell_type": "markdown",
   "id": "d52a40dd-2c1b-4b44-8593-d0bd0eeef865",
   "metadata": {},
   "source": [
    "### 02. What is the relationship between the onset of these current events and the creation of twitter accounts?\n",
    "\n",
    "With acc_age and account_creation_date, create a time series analysis plot to assess how many accounts were created pre- and post- the first occurrence of the hashtag subgroups"
   ]
  },
  {
   "cell_type": "markdown",
   "id": "7e3608e4-53e4-4a11-9280-5f49df02de8d",
   "metadata": {},
   "source": [
    "#### 02A: Create function to define dataset"
   ]
  },
  {
   "cell_type": "code",
   "execution_count": null,
   "id": "a6c90683-e8a8-4e85-b29e-2ff09c8eedc6",
   "metadata": {},
   "outputs": [],
   "source": [
    "#Create a similar function to the one above \n",
    "\n",
    "#hashtag = takes in a list of strings of hashtags\n",
    "#goal: create a df of just \n",
    "def account_hashtag(hashtag, df):\n",
    "\n",
    "    #select cols and sort them by date\n",
    "    sorted = df[[\"userid\", \"account_creation_date\", \"text\", \"hashtag\"]].sort_values(by = 'account_creation_date')\n",
    "\n",
    "    #df that contains tweets with the hashtags\n",
    "    search_terms = \"|\".join(hashtag)\n",
    "    terms_df = sorted[sorted['hashtag'].str.contains(search_terms, case = False, na = False)]\n",
    "    \n",
    "    #select just the first occurrence per day\n",
    "    unique_accounts = terms_df.drop_duplicates(subset = 'userid', keep = 'first').reset_index()\n",
    "    first_date = first_occurrences.iloc[0, 1]\n",
    "    \n",
    "    return first_date, terms_df\n",
    "\n",
    "account_df = account_hastag([\"blm\", \"blacklives\", \"stopasianhate\", \"yellowlives\", \"asianlives\"], data)[1]\n",
    "account_df"
   ]
  },
  {
   "cell_type": "markdown",
   "id": "e0db3095-368e-47d9-95d6-dd9ce478c914",
   "metadata": {},
   "source": [
    "#### 02B: Create TimeSeries analysis for each movement"
   ]
  },
  {
   "cell_type": "code",
   "execution_count": null,
   "id": "f4eb482f-24d3-40a2-b5e5-0e9c457ac440",
   "metadata": {},
   "outputs": [],
   "source": []
  },
  {
   "cell_type": "code",
   "execution_count": null,
   "id": "acafb2ae-8684-4a06-a8b4-fb9aa7f43dcf",
   "metadata": {},
   "outputs": [],
   "source": []
  },
  {
   "cell_type": "markdown",
   "id": "5001a6ac-c865-404a-b663-b791a5d7ecd3",
   "metadata": {},
   "source": [
    "---------------------------------------------------------------------------------------------------------------------------------------------"
   ]
  },
  {
   "cell_type": "markdown",
   "id": "ff79aa55-affe-4b12-b7ab-caa59a53e917",
   "metadata": {},
   "source": [
    "### 03. What is the relationship between the onset of these current events and the volume of tweets?"
   ]
  },
  {
   "cell_type": "markdown",
   "id": "468a022f-4fcc-4a89-b0d9-c6bd9319a49d",
   "metadata": {},
   "source": [
    "#### 03A: Creating functions\n",
    "* volume_df() = create df of just hashtags of interest and count tweets per day\n",
    "* filtr() = filters a df between two dates"
   ]
  },
  {
   "cell_type": "code",
   "execution_count": 46,
   "id": "06d033db-c355-4e9e-946f-4bb7ddff1dc9",
   "metadata": {},
   "outputs": [],
   "source": [
    "def volume_df(strList):\n",
    "    x = pd.DataFrame(data[data[\"hashtag\"].str.contains(strList, case = False, na = False)])\n",
    "    dat = x[[\"hashtag\", \"date_ymd\", \"text\"]].sort_values(by = \"date_ymd\").reset_index(drop=True)\n",
    "    volume = dat.resample('D', on='date_ymd').size().reset_index(name = 'tweet_count')\n",
    "    return pd.DataFrame(volume)"
   ]
  },
  {
   "cell_type": "code",
   "execution_count": 50,
   "id": "1ceedb48-b11e-460b-abaa-632bab1166dd",
   "metadata": {},
   "outputs": [],
   "source": [
    "def test(strList):\n",
    "    x = pd.DataFrame(data[data[\"hashtag\"].str.contains(strList, case = False, na = False)])\n",
    "    dat = x[[\"hashtag\", \"date_ymd\", \"text\"]].sort_values(by = \"date_ymd\").reset_index(drop=True)\n",
    "    return pd.DataFrame(dat)"
   ]
  },
  {
   "cell_type": "code",
   "execution_count": 51,
   "id": "8f467502-b82d-42cf-ab1b-69ca7aac2550",
   "metadata": {},
   "outputs": [],
   "source": [
    "def tweet_v(dat):\n",
    "    dat = dat.resample('D', on='date2').size().reset_index(name='tweet_count')\n",
    "    return pd.DataFrame(dat)"
   ]
  },
  {
   "cell_type": "code",
   "execution_count": 52,
   "id": "f71dcd10-7066-464a-9244-ffe55c31fb3d",
   "metadata": {},
   "outputs": [],
   "source": [
    "def filtr(dat, start_date, end_date):\n",
    "    start_date = datetime.strptime(start_date, \"%Y-%m-%d\")\n",
    "    end_date = datetime.strptime(end_date, \"%Y-%m-%d\")\n",
    "    filtr_dat = dat[dat['date_ymd'].between(start_date, end_date)]\n",
    "    return pd.DataFrame(filtr_dat)"
   ]
  },
  {
   "cell_type": "code",
   "execution_count": 54,
   "id": "df3cce75-de01-455a-9a3d-3d6d07e8c335",
   "metadata": {},
   "outputs": [
    {
     "data": {
      "text/html": [
       "<div>\n",
       "<style scoped>\n",
       "    .dataframe tbody tr th:only-of-type {\n",
       "        vertical-align: middle;\n",
       "    }\n",
       "\n",
       "    .dataframe tbody tr th {\n",
       "        vertical-align: top;\n",
       "    }\n",
       "\n",
       "    .dataframe thead th {\n",
       "        text-align: right;\n",
       "    }\n",
       "</style>\n",
       "<table border=\"1\" class=\"dataframe\">\n",
       "  <thead>\n",
       "    <tr style=\"text-align: right;\">\n",
       "      <th></th>\n",
       "      <th>date2</th>\n",
       "      <th>tweet_count</th>\n",
       "    </tr>\n",
       "  </thead>\n",
       "  <tbody>\n",
       "    <tr>\n",
       "      <th>0</th>\n",
       "      <td>2020-01-27</td>\n",
       "      <td>1</td>\n",
       "    </tr>\n",
       "    <tr>\n",
       "      <th>1</th>\n",
       "      <td>2020-01-28</td>\n",
       "      <td>0</td>\n",
       "    </tr>\n",
       "    <tr>\n",
       "      <th>2</th>\n",
       "      <td>2020-01-29</td>\n",
       "      <td>9</td>\n",
       "    </tr>\n",
       "    <tr>\n",
       "      <th>3</th>\n",
       "      <td>2020-01-30</td>\n",
       "      <td>1</td>\n",
       "    </tr>\n",
       "    <tr>\n",
       "      <th>4</th>\n",
       "      <td>2020-01-31</td>\n",
       "      <td>2</td>\n",
       "    </tr>\n",
       "    <tr>\n",
       "      <th>...</th>\n",
       "      <td>...</td>\n",
       "      <td>...</td>\n",
       "    </tr>\n",
       "    <tr>\n",
       "      <th>880</th>\n",
       "      <td>2022-06-25</td>\n",
       "      <td>33</td>\n",
       "    </tr>\n",
       "    <tr>\n",
       "      <th>881</th>\n",
       "      <td>2022-06-26</td>\n",
       "      <td>43</td>\n",
       "    </tr>\n",
       "    <tr>\n",
       "      <th>882</th>\n",
       "      <td>2022-06-27</td>\n",
       "      <td>44</td>\n",
       "    </tr>\n",
       "    <tr>\n",
       "      <th>883</th>\n",
       "      <td>2022-06-28</td>\n",
       "      <td>43</td>\n",
       "    </tr>\n",
       "    <tr>\n",
       "      <th>884</th>\n",
       "      <td>2022-06-29</td>\n",
       "      <td>53</td>\n",
       "    </tr>\n",
       "  </tbody>\n",
       "</table>\n",
       "<p>885 rows × 2 columns</p>\n",
       "</div>"
      ],
      "text/plain": [
       "         date2  tweet_count\n",
       "0   2020-01-27            1\n",
       "1   2020-01-28            0\n",
       "2   2020-01-29            9\n",
       "3   2020-01-30            1\n",
       "4   2020-01-31            2\n",
       "..         ...          ...\n",
       "880 2022-06-25           33\n",
       "881 2022-06-26           43\n",
       "882 2022-06-27           44\n",
       "883 2022-06-28           43\n",
       "884 2022-06-29           53\n",
       "\n",
       "[885 rows x 2 columns]"
      ]
     },
     "execution_count": 54,
     "metadata": {},
     "output_type": "execute_result"
    }
   ],
   "source": [
    "blm = test(\"black|blm|george floyd|derek chauvin\")\n",
    "testblm = tweet_v(blm)\n",
    "testblm"
   ]
  },
  {
   "cell_type": "code",
   "execution_count": 48,
   "id": "dc8be907-3f5f-43bb-af28-5a8dfbeebd88",
   "metadata": {},
   "outputs": [
    {
     "ename": "KeyError",
     "evalue": "'tweet_count'",
     "output_type": "error",
     "traceback": [
      "\u001b[0;31m---------------------------------------------------------------------------\u001b[0m",
      "\u001b[0;31mKeyError\u001b[0m                                  Traceback (most recent call last)",
      "File \u001b[0;32m/opt/anaconda3/lib/python3.11/site-packages/pandas/core/indexes/base.py:3791\u001b[0m, in \u001b[0;36mIndex.get_loc\u001b[0;34m(self, key)\u001b[0m\n\u001b[1;32m   3790\u001b[0m \u001b[38;5;28;01mtry\u001b[39;00m:\n\u001b[0;32m-> 3791\u001b[0m     \u001b[38;5;28;01mreturn\u001b[39;00m \u001b[38;5;28mself\u001b[39m\u001b[38;5;241m.\u001b[39m_engine\u001b[38;5;241m.\u001b[39mget_loc(casted_key)\n\u001b[1;32m   3792\u001b[0m \u001b[38;5;28;01mexcept\u001b[39;00m \u001b[38;5;167;01mKeyError\u001b[39;00m \u001b[38;5;28;01mas\u001b[39;00m err:\n",
      "File \u001b[0;32mindex.pyx:152\u001b[0m, in \u001b[0;36mpandas._libs.index.IndexEngine.get_loc\u001b[0;34m()\u001b[0m\n",
      "File \u001b[0;32mindex.pyx:181\u001b[0m, in \u001b[0;36mpandas._libs.index.IndexEngine.get_loc\u001b[0;34m()\u001b[0m\n",
      "File \u001b[0;32mpandas/_libs/hashtable_class_helper.pxi:7080\u001b[0m, in \u001b[0;36mpandas._libs.hashtable.PyObjectHashTable.get_item\u001b[0;34m()\u001b[0m\n",
      "File \u001b[0;32mpandas/_libs/hashtable_class_helper.pxi:7088\u001b[0m, in \u001b[0;36mpandas._libs.hashtable.PyObjectHashTable.get_item\u001b[0;34m()\u001b[0m\n",
      "\u001b[0;31mKeyError\u001b[0m: 'tweet_count'",
      "\nThe above exception was the direct cause of the following exception:\n",
      "\u001b[0;31mKeyError\u001b[0m                                  Traceback (most recent call last)",
      "Cell \u001b[0;32mIn[48], line 6\u001b[0m\n\u001b[1;32m      3\u001b[0m \u001b[38;5;66;03m# testblm = filtr(testblm,\"2020-05-25\",\"2020-06-20\")\u001b[39;00m\n\u001b[1;32m      5\u001b[0m plt\u001b[38;5;241m.\u001b[39mfigure(figsize\u001b[38;5;241m=\u001b[39m(\u001b[38;5;241m12\u001b[39m, \u001b[38;5;241m6\u001b[39m))\n\u001b[0;32m----> 6\u001b[0m plt\u001b[38;5;241m.\u001b[39mplot(blm_volume[\u001b[38;5;124m'\u001b[39m\u001b[38;5;124mdate_ymd\u001b[39m\u001b[38;5;124m'\u001b[39m], blm_volume[\u001b[38;5;124m'\u001b[39m\u001b[38;5;124mtweet_count\u001b[39m\u001b[38;5;124m'\u001b[39m], label\u001b[38;5;241m=\u001b[39m\u001b[38;5;124m'\u001b[39m\u001b[38;5;124mTweet Volume\u001b[39m\u001b[38;5;124m'\u001b[39m)\n\u001b[1;32m      7\u001b[0m plt\u001b[38;5;241m.\u001b[39mxlabel(\u001b[38;5;124m'\u001b[39m\u001b[38;5;124mDate\u001b[39m\u001b[38;5;124m'\u001b[39m)\n\u001b[1;32m      8\u001b[0m plt\u001b[38;5;241m.\u001b[39mylabel(\u001b[38;5;124m'\u001b[39m\u001b[38;5;124mNumber of Tweets\u001b[39m\u001b[38;5;124m'\u001b[39m)\n",
      "File \u001b[0;32m/opt/anaconda3/lib/python3.11/site-packages/pandas/core/frame.py:3893\u001b[0m, in \u001b[0;36mDataFrame.__getitem__\u001b[0;34m(self, key)\u001b[0m\n\u001b[1;32m   3891\u001b[0m \u001b[38;5;28;01mif\u001b[39;00m \u001b[38;5;28mself\u001b[39m\u001b[38;5;241m.\u001b[39mcolumns\u001b[38;5;241m.\u001b[39mnlevels \u001b[38;5;241m>\u001b[39m \u001b[38;5;241m1\u001b[39m:\n\u001b[1;32m   3892\u001b[0m     \u001b[38;5;28;01mreturn\u001b[39;00m \u001b[38;5;28mself\u001b[39m\u001b[38;5;241m.\u001b[39m_getitem_multilevel(key)\n\u001b[0;32m-> 3893\u001b[0m indexer \u001b[38;5;241m=\u001b[39m \u001b[38;5;28mself\u001b[39m\u001b[38;5;241m.\u001b[39mcolumns\u001b[38;5;241m.\u001b[39mget_loc(key)\n\u001b[1;32m   3894\u001b[0m \u001b[38;5;28;01mif\u001b[39;00m is_integer(indexer):\n\u001b[1;32m   3895\u001b[0m     indexer \u001b[38;5;241m=\u001b[39m [indexer]\n",
      "File \u001b[0;32m/opt/anaconda3/lib/python3.11/site-packages/pandas/core/indexes/base.py:3798\u001b[0m, in \u001b[0;36mIndex.get_loc\u001b[0;34m(self, key)\u001b[0m\n\u001b[1;32m   3793\u001b[0m     \u001b[38;5;28;01mif\u001b[39;00m \u001b[38;5;28misinstance\u001b[39m(casted_key, \u001b[38;5;28mslice\u001b[39m) \u001b[38;5;129;01mor\u001b[39;00m (\n\u001b[1;32m   3794\u001b[0m         \u001b[38;5;28misinstance\u001b[39m(casted_key, abc\u001b[38;5;241m.\u001b[39mIterable)\n\u001b[1;32m   3795\u001b[0m         \u001b[38;5;129;01mand\u001b[39;00m \u001b[38;5;28many\u001b[39m(\u001b[38;5;28misinstance\u001b[39m(x, \u001b[38;5;28mslice\u001b[39m) \u001b[38;5;28;01mfor\u001b[39;00m x \u001b[38;5;129;01min\u001b[39;00m casted_key)\n\u001b[1;32m   3796\u001b[0m     ):\n\u001b[1;32m   3797\u001b[0m         \u001b[38;5;28;01mraise\u001b[39;00m InvalidIndexError(key)\n\u001b[0;32m-> 3798\u001b[0m     \u001b[38;5;28;01mraise\u001b[39;00m \u001b[38;5;167;01mKeyError\u001b[39;00m(key) \u001b[38;5;28;01mfrom\u001b[39;00m \u001b[38;5;21;01merr\u001b[39;00m\n\u001b[1;32m   3799\u001b[0m \u001b[38;5;28;01mexcept\u001b[39;00m \u001b[38;5;167;01mTypeError\u001b[39;00m:\n\u001b[1;32m   3800\u001b[0m     \u001b[38;5;66;03m# If we have a listlike key, _check_indexing_error will raise\u001b[39;00m\n\u001b[1;32m   3801\u001b[0m     \u001b[38;5;66;03m#  InvalidIndexError. Otherwise we fall through and re-raise\u001b[39;00m\n\u001b[1;32m   3802\u001b[0m     \u001b[38;5;66;03m#  the TypeError.\u001b[39;00m\n\u001b[1;32m   3803\u001b[0m     \u001b[38;5;28mself\u001b[39m\u001b[38;5;241m.\u001b[39m_check_indexing_error(key)\n",
      "\u001b[0;31mKeyError\u001b[0m: 'tweet_count'"
     ]
    },
    {
     "data": {
      "text/plain": [
       "<Figure size 1200x600 with 0 Axes>"
      ]
     },
     "metadata": {},
     "output_type": "display_data"
    }
   ],
   "source": [
    "blm_volume = test(\"black|blm|george floyd|derek chauvin\")\n",
    "\n",
    "# testblm = filtr(testblm,\"2020-05-25\",\"2020-06-20\")\n",
    "\n",
    "plt.figure(figsize=(12, 6))\n",
    "plt.plot(blm_volume['date_ymd'], blm_volume['tweet_count'], label='Tweet Volume')\n",
    "plt.xlabel('Date')\n",
    "plt.ylabel('Number of Tweets')\n",
    "plt.tight_layout()"
   ]
  },
  {
   "cell_type": "code",
   "execution_count": 21,
   "id": "37528b37-acfa-4e32-ae4b-f79262f373a3",
   "metadata": {},
   "outputs": [
    {
     "data": {
      "image/png": "[encoded data removed]",
      "text/plain": [
       "<Figure size 1200x600 with 1 Axes>"
      ]
     },
     "metadata": {},
     "output_type": "display_data"
    }
   ],
   "source": [
    "asian = test(\"asianlives|yellowlives|stopasianhate|stopaapihate\")\n",
    "testasian = tweet_v(asian)\n",
    "\n",
    "# testasian = filtr(testasian,\"2020-05-25\",\"2020-06-20\")\n",
    "\n",
    "plt.figure(figsize=(12, 6))\n",
    "plt.plot(testasian['date_ymd'], testasian['tweet_count'], label='Tweet Volume')\n",
    "plt.xlabel('Date')\n",
    "plt.ylabel('Number of Tweets')\n",
    "plt.tight_layout()"
   ]
  },
  {
   "cell_type": "code",
   "execution_count": 22,
   "id": "124f8dd6-287d-468a-a973-59d04c32a137",
   "metadata": {},
   "outputs": [
    {
     "name": "stdout",
     "output_type": "stream",
     "text": [
      "        date2  tweet_count\n",
      "36 2020-02-28            3\n",
      "37 2020-02-29           19\n",
      "38 2020-03-01           60\n",
      "39 2020-03-02           10\n",
      "40 2020-03-03           29\n"
     ]
    },
    {
     "data": {
      "image/png": "[encoded data removed]",
      "text/plain": [
       "<Figure size 1200x600 with 1 Axes>"
      ]
     },
     "metadata": {},
     "output_type": "display_data"
    }
   ],
   "source": [
    "covid = test(\"covid|coronavirus|pandemic|pfizer|moderna|omicron variant|delta variant\")\n",
    "testcovid = tweet_v(covid)\n",
    "\n",
    "testcovid = filtr(testcovid,\"2020-02-28\",\"2020-03-04\")\n",
    "print(testcovid.head())\n",
    "plt.figure(figsize=(12, 6))\n",
    "plt.plot(testcovid['date_ymd'], testcovid['tweet_count'], label='Tweet Volume')\n",
    "plt.xlabel('Date')\n",
    "plt.ylabel('Number of Tweets')\n",
    "plt.tight_layout()"
   ]
  },
  {
   "cell_type": "code",
   "execution_count": 31,
   "id": "63790d46-4ae5-456f-919c-f0ef3c68e07f",
   "metadata": {
    "scrolled": true
   },
   "outputs": [
    {
     "ename": "TypeError",
     "evalue": "strptime() argument 1 must be str, not Timestamp",
     "output_type": "error",
     "traceback": [
      "\u001b[0;31m---------------------------------------------------------------------------\u001b[0m",
      "\u001b[0;31mTypeError\u001b[0m                                 Traceback (most recent call last)",
      "Cell \u001b[0;32mIn[31], line 6\u001b[0m\n\u001b[1;32m      3\u001b[0m     x \u001b[38;5;241m=\u001b[39m x\u001b[38;5;241m.\u001b[39mstrftime(\u001b[38;5;124m'\u001b[39m\u001b[38;5;132;01m%d\u001b[39;00m\u001b[38;5;124m-\u001b[39m\u001b[38;5;124m%\u001b[39m\u001b[38;5;124mm-\u001b[39m\u001b[38;5;124m%\u001b[39m\u001b[38;5;124mY\u001b[39m\u001b[38;5;124m'\u001b[39m)\n\u001b[1;32m      4\u001b[0m     \u001b[38;5;28;01mreturn\u001b[39;00m x\n\u001b[0;32m----> 6\u001b[0m data[\u001b[38;5;124m'\u001b[39m\u001b[38;5;124mdate2\u001b[39m\u001b[38;5;124m'\u001b[39m] \u001b[38;5;241m=\u001b[39m data[\u001b[38;5;124m'\u001b[39m\u001b[38;5;124mdate\u001b[39m\u001b[38;5;124m'\u001b[39m]\u001b[38;5;241m.\u001b[39mapply(ddmmyyyy)\n\u001b[1;32m      7\u001b[0m data[\u001b[38;5;124m'\u001b[39m\u001b[38;5;124mdate2\u001b[39m\u001b[38;5;124m'\u001b[39m] \u001b[38;5;241m=\u001b[39m pd\u001b[38;5;241m.\u001b[39mto_datetime(data[\u001b[38;5;124m'\u001b[39m\u001b[38;5;124mdate2\u001b[39m\u001b[38;5;124m'\u001b[39m], \u001b[38;5;28mformat\u001b[39m\u001b[38;5;241m=\u001b[39m\u001b[38;5;124m'\u001b[39m\u001b[38;5;132;01m%d\u001b[39;00m\u001b[38;5;124m-\u001b[39m\u001b[38;5;124m%\u001b[39m\u001b[38;5;124mm-\u001b[39m\u001b[38;5;124m%\u001b[39m\u001b[38;5;124mY\u001b[39m\u001b[38;5;124m'\u001b[39m)\n\u001b[1;32m      8\u001b[0m start_date \u001b[38;5;241m=\u001b[39m datetime\u001b[38;5;241m.\u001b[39mstrptime(\u001b[38;5;124m\"\u001b[39m\u001b[38;5;124m20-07-2021\u001b[39m\u001b[38;5;124m\"\u001b[39m, \u001b[38;5;124m\"\u001b[39m\u001b[38;5;132;01m%d\u001b[39;00m\u001b[38;5;124m-\u001b[39m\u001b[38;5;124m%\u001b[39m\u001b[38;5;124mm-\u001b[39m\u001b[38;5;124m%\u001b[39m\u001b[38;5;124mY\u001b[39m\u001b[38;5;124m\"\u001b[39m)\n",
      "File \u001b[0;32m/opt/anaconda3/lib/python3.11/site-packages/pandas/core/series.py:4764\u001b[0m, in \u001b[0;36mSeries.apply\u001b[0;34m(self, func, convert_dtype, args, by_row, **kwargs)\u001b[0m\n\u001b[1;32m   4629\u001b[0m \u001b[38;5;28;01mdef\u001b[39;00m \u001b[38;5;21mapply\u001b[39m(\n\u001b[1;32m   4630\u001b[0m     \u001b[38;5;28mself\u001b[39m,\n\u001b[1;32m   4631\u001b[0m     func: AggFuncType,\n\u001b[0;32m   (...)\u001b[0m\n\u001b[1;32m   4636\u001b[0m     \u001b[38;5;241m*\u001b[39m\u001b[38;5;241m*\u001b[39mkwargs,\n\u001b[1;32m   4637\u001b[0m ) \u001b[38;5;241m-\u001b[39m\u001b[38;5;241m>\u001b[39m DataFrame \u001b[38;5;241m|\u001b[39m Series:\n\u001b[1;32m   4638\u001b[0m \u001b[38;5;250m    \u001b[39m\u001b[38;5;124;03m\"\"\"\u001b[39;00m\n\u001b[1;32m   4639\u001b[0m \u001b[38;5;124;03m    Invoke function on values of Series.\u001b[39;00m\n\u001b[1;32m   4640\u001b[0m \n\u001b[0;32m   (...)\u001b[0m\n\u001b[1;32m   4755\u001b[0m \u001b[38;5;124;03m    dtype: float64\u001b[39;00m\n\u001b[1;32m   4756\u001b[0m \u001b[38;5;124;03m    \"\"\"\u001b[39;00m\n\u001b[1;32m   4757\u001b[0m     \u001b[38;5;28;01mreturn\u001b[39;00m SeriesApply(\n\u001b[1;32m   4758\u001b[0m         \u001b[38;5;28mself\u001b[39m,\n\u001b[1;32m   4759\u001b[0m         func,\n\u001b[1;32m   4760\u001b[0m         convert_dtype\u001b[38;5;241m=\u001b[39mconvert_dtype,\n\u001b[1;32m   4761\u001b[0m         by_row\u001b[38;5;241m=\u001b[39mby_row,\n\u001b[1;32m   4762\u001b[0m         args\u001b[38;5;241m=\u001b[39margs,\n\u001b[1;32m   4763\u001b[0m         kwargs\u001b[38;5;241m=\u001b[39mkwargs,\n\u001b[0;32m-> 4764\u001b[0m     )\u001b[38;5;241m.\u001b[39mapply()\n",
      "File \u001b[0;32m/opt/anaconda3/lib/python3.11/site-packages/pandas/core/apply.py:1209\u001b[0m, in \u001b[0;36mSeriesApply.apply\u001b[0;34m(self)\u001b[0m\n\u001b[1;32m   1206\u001b[0m     \u001b[38;5;28;01mreturn\u001b[39;00m \u001b[38;5;28mself\u001b[39m\u001b[38;5;241m.\u001b[39mapply_compat()\n\u001b[1;32m   1208\u001b[0m \u001b[38;5;66;03m# self.func is Callable\u001b[39;00m\n\u001b[0;32m-> 1209\u001b[0m \u001b[38;5;28;01mreturn\u001b[39;00m \u001b[38;5;28mself\u001b[39m\u001b[38;5;241m.\u001b[39mapply_standard()\n",
      "File \u001b[0;32m/opt/anaconda3/lib/python3.11/site-packages/pandas/core/apply.py:1289\u001b[0m, in \u001b[0;36mSeriesApply.apply_standard\u001b[0;34m(self)\u001b[0m\n\u001b[1;32m   1283\u001b[0m \u001b[38;5;66;03m# row-wise access\u001b[39;00m\n\u001b[1;32m   1284\u001b[0m \u001b[38;5;66;03m# apply doesn't have a `na_action` keyword and for backward compat reasons\u001b[39;00m\n\u001b[1;32m   1285\u001b[0m \u001b[38;5;66;03m# we need to give `na_action=\"ignore\"` for categorical data.\u001b[39;00m\n\u001b[1;32m   1286\u001b[0m \u001b[38;5;66;03m# TODO: remove the `na_action=\"ignore\"` when that default has been changed in\u001b[39;00m\n\u001b[1;32m   1287\u001b[0m \u001b[38;5;66;03m#  Categorical (GH51645).\u001b[39;00m\n\u001b[1;32m   1288\u001b[0m action \u001b[38;5;241m=\u001b[39m \u001b[38;5;124m\"\u001b[39m\u001b[38;5;124mignore\u001b[39m\u001b[38;5;124m\"\u001b[39m \u001b[38;5;28;01mif\u001b[39;00m \u001b[38;5;28misinstance\u001b[39m(obj\u001b[38;5;241m.\u001b[39mdtype, CategoricalDtype) \u001b[38;5;28;01melse\u001b[39;00m \u001b[38;5;28;01mNone\u001b[39;00m\n\u001b[0;32m-> 1289\u001b[0m mapped \u001b[38;5;241m=\u001b[39m obj\u001b[38;5;241m.\u001b[39m_map_values(\n\u001b[1;32m   1290\u001b[0m     mapper\u001b[38;5;241m=\u001b[39mcurried, na_action\u001b[38;5;241m=\u001b[39maction, convert\u001b[38;5;241m=\u001b[39m\u001b[38;5;28mself\u001b[39m\u001b[38;5;241m.\u001b[39mconvert_dtype\n\u001b[1;32m   1291\u001b[0m )\n\u001b[1;32m   1293\u001b[0m \u001b[38;5;28;01mif\u001b[39;00m \u001b[38;5;28mlen\u001b[39m(mapped) \u001b[38;5;129;01mand\u001b[39;00m \u001b[38;5;28misinstance\u001b[39m(mapped[\u001b[38;5;241m0\u001b[39m], ABCSeries):\n\u001b[1;32m   1294\u001b[0m     \u001b[38;5;66;03m# GH#43986 Need to do list(mapped) in order to get treated as nested\u001b[39;00m\n\u001b[1;32m   1295\u001b[0m     \u001b[38;5;66;03m#  See also GH#25959 regarding EA support\u001b[39;00m\n\u001b[1;32m   1296\u001b[0m     \u001b[38;5;28;01mreturn\u001b[39;00m obj\u001b[38;5;241m.\u001b[39m_constructor_expanddim(\u001b[38;5;28mlist\u001b[39m(mapped), index\u001b[38;5;241m=\u001b[39mobj\u001b[38;5;241m.\u001b[39mindex)\n",
      "File \u001b[0;32m/opt/anaconda3/lib/python3.11/site-packages/pandas/core/base.py:919\u001b[0m, in \u001b[0;36mIndexOpsMixin._map_values\u001b[0;34m(self, mapper, na_action, convert)\u001b[0m\n\u001b[1;32m    916\u001b[0m arr \u001b[38;5;241m=\u001b[39m \u001b[38;5;28mself\u001b[39m\u001b[38;5;241m.\u001b[39m_values\n\u001b[1;32m    918\u001b[0m \u001b[38;5;28;01mif\u001b[39;00m \u001b[38;5;28misinstance\u001b[39m(arr, ExtensionArray):\n\u001b[0;32m--> 919\u001b[0m     \u001b[38;5;28;01mreturn\u001b[39;00m arr\u001b[38;5;241m.\u001b[39mmap(mapper, na_action\u001b[38;5;241m=\u001b[39mna_action)\n\u001b[1;32m    921\u001b[0m \u001b[38;5;28;01mreturn\u001b[39;00m algorithms\u001b[38;5;241m.\u001b[39mmap_array(arr, mapper, na_action\u001b[38;5;241m=\u001b[39mna_action, convert\u001b[38;5;241m=\u001b[39mconvert)\n",
      "File \u001b[0;32m/opt/anaconda3/lib/python3.11/site-packages/pandas/core/arrays/_mixins.py:80\u001b[0m, in \u001b[0;36mravel_compat.<locals>.method\u001b[0;34m(self, *args, **kwargs)\u001b[0m\n\u001b[1;32m     77\u001b[0m \u001b[38;5;129m@wraps\u001b[39m(meth)\n\u001b[1;32m     78\u001b[0m \u001b[38;5;28;01mdef\u001b[39;00m \u001b[38;5;21mmethod\u001b[39m(\u001b[38;5;28mself\u001b[39m, \u001b[38;5;241m*\u001b[39margs, \u001b[38;5;241m*\u001b[39m\u001b[38;5;241m*\u001b[39mkwargs):\n\u001b[1;32m     79\u001b[0m     \u001b[38;5;28;01mif\u001b[39;00m \u001b[38;5;28mself\u001b[39m\u001b[38;5;241m.\u001b[39mndim \u001b[38;5;241m==\u001b[39m \u001b[38;5;241m1\u001b[39m:\n\u001b[0;32m---> 80\u001b[0m         \u001b[38;5;28;01mreturn\u001b[39;00m meth(\u001b[38;5;28mself\u001b[39m, \u001b[38;5;241m*\u001b[39margs, \u001b[38;5;241m*\u001b[39m\u001b[38;5;241m*\u001b[39mkwargs)\n\u001b[1;32m     82\u001b[0m     flags \u001b[38;5;241m=\u001b[39m \u001b[38;5;28mself\u001b[39m\u001b[38;5;241m.\u001b[39m_ndarray\u001b[38;5;241m.\u001b[39mflags\n\u001b[1;32m     83\u001b[0m     flat \u001b[38;5;241m=\u001b[39m \u001b[38;5;28mself\u001b[39m\u001b[38;5;241m.\u001b[39mravel(\u001b[38;5;124m\"\u001b[39m\u001b[38;5;124mK\u001b[39m\u001b[38;5;124m\"\u001b[39m)\n",
      "File \u001b[0;32m/opt/anaconda3/lib/python3.11/site-packages/pandas/core/arrays/datetimelike.py:723\u001b[0m, in \u001b[0;36mDatetimeLikeArrayMixin.map\u001b[0;34m(self, mapper, na_action)\u001b[0m\n\u001b[1;32m    719\u001b[0m \u001b[38;5;129m@ravel_compat\u001b[39m\n\u001b[1;32m    720\u001b[0m \u001b[38;5;28;01mdef\u001b[39;00m \u001b[38;5;21mmap\u001b[39m(\u001b[38;5;28mself\u001b[39m, mapper, na_action\u001b[38;5;241m=\u001b[39m\u001b[38;5;28;01mNone\u001b[39;00m):\n\u001b[1;32m    721\u001b[0m     \u001b[38;5;28;01mfrom\u001b[39;00m \u001b[38;5;21;01mpandas\u001b[39;00m \u001b[38;5;28;01mimport\u001b[39;00m Index\n\u001b[0;32m--> 723\u001b[0m     result \u001b[38;5;241m=\u001b[39m map_array(\u001b[38;5;28mself\u001b[39m, mapper, na_action\u001b[38;5;241m=\u001b[39mna_action)\n\u001b[1;32m    724\u001b[0m     result \u001b[38;5;241m=\u001b[39m Index(result)\n\u001b[1;32m    726\u001b[0m     \u001b[38;5;28;01mif\u001b[39;00m \u001b[38;5;28misinstance\u001b[39m(result, ABCMultiIndex):\n",
      "File \u001b[0;32m/opt/anaconda3/lib/python3.11/site-packages/pandas/core/algorithms.py:1814\u001b[0m, in \u001b[0;36mmap_array\u001b[0;34m(arr, mapper, na_action, convert)\u001b[0m\n\u001b[1;32m   1812\u001b[0m values \u001b[38;5;241m=\u001b[39m arr\u001b[38;5;241m.\u001b[39mastype(\u001b[38;5;28mobject\u001b[39m, copy\u001b[38;5;241m=\u001b[39m\u001b[38;5;28;01mFalse\u001b[39;00m)\n\u001b[1;32m   1813\u001b[0m \u001b[38;5;28;01mif\u001b[39;00m na_action \u001b[38;5;129;01mis\u001b[39;00m \u001b[38;5;28;01mNone\u001b[39;00m:\n\u001b[0;32m-> 1814\u001b[0m     \u001b[38;5;28;01mreturn\u001b[39;00m lib\u001b[38;5;241m.\u001b[39mmap_infer(values, mapper, convert\u001b[38;5;241m=\u001b[39mconvert)\n\u001b[1;32m   1815\u001b[0m \u001b[38;5;28;01melse\u001b[39;00m:\n\u001b[1;32m   1816\u001b[0m     \u001b[38;5;28;01mreturn\u001b[39;00m lib\u001b[38;5;241m.\u001b[39mmap_infer_mask(\n\u001b[1;32m   1817\u001b[0m         values, mapper, mask\u001b[38;5;241m=\u001b[39misna(values)\u001b[38;5;241m.\u001b[39mview(np\u001b[38;5;241m.\u001b[39muint8), convert\u001b[38;5;241m=\u001b[39mconvert\n\u001b[1;32m   1818\u001b[0m     )\n",
      "File \u001b[0;32mlib.pyx:2926\u001b[0m, in \u001b[0;36mpandas._libs.lib.map_infer\u001b[0;34m()\u001b[0m\n",
      "Cell \u001b[0;32mIn[31], line 2\u001b[0m, in \u001b[0;36mddmmyyyy\u001b[0;34m(date)\u001b[0m\n\u001b[1;32m      1\u001b[0m \u001b[38;5;28;01mdef\u001b[39;00m \u001b[38;5;21mddmmyyyy\u001b[39m(date):\n\u001b[0;32m----> 2\u001b[0m     x \u001b[38;5;241m=\u001b[39m datetime\u001b[38;5;241m.\u001b[39mstrptime(date, \u001b[38;5;124m'\u001b[39m\u001b[38;5;132;01m%a\u001b[39;00m\u001b[38;5;124m \u001b[39m\u001b[38;5;124m%\u001b[39m\u001b[38;5;124mb \u001b[39m\u001b[38;5;132;01m%d\u001b[39;00m\u001b[38;5;124m \u001b[39m\u001b[38;5;124m%\u001b[39m\u001b[38;5;124mH:\u001b[39m\u001b[38;5;124m%\u001b[39m\u001b[38;5;124mM:\u001b[39m\u001b[38;5;124m%\u001b[39m\u001b[38;5;124mS \u001b[39m\u001b[38;5;124m%\u001b[39m\u001b[38;5;124mz \u001b[39m\u001b[38;5;124m%\u001b[39m\u001b[38;5;124mY\u001b[39m\u001b[38;5;124m'\u001b[39m)\n\u001b[1;32m      3\u001b[0m     x \u001b[38;5;241m=\u001b[39m x\u001b[38;5;241m.\u001b[39mstrftime(\u001b[38;5;124m'\u001b[39m\u001b[38;5;132;01m%d\u001b[39;00m\u001b[38;5;124m-\u001b[39m\u001b[38;5;124m%\u001b[39m\u001b[38;5;124mm-\u001b[39m\u001b[38;5;124m%\u001b[39m\u001b[38;5;124mY\u001b[39m\u001b[38;5;124m'\u001b[39m)\n\u001b[1;32m      4\u001b[0m     \u001b[38;5;28;01mreturn\u001b[39;00m x\n",
      "\u001b[0;31mTypeError\u001b[0m: strptime() argument 1 must be str, not Timestamp"
     ]
    }
   ],
   "source": [
    "start_date = datetime.strptime(\"20-07-2021\", \"%d-%m-%Y\")\n",
    "end_date = datetime.strptime(\"30-08-2021\", \"%d-%m-%Y\")\n",
    "daily_tweets = data\n",
    "\n",
    "# Date filter\n",
    "# daily_tweets = data[data['date2'].between(start_date, end_date)]\n",
    "\n",
    "# Find tweet count for each day\n",
    "daily_tweets = daily_tweets.resample('D', on='date2').size().reset_index(name='tweet_count')\n",
    "\n",
    "# Plot \n",
    "plt.figure(figsize=(12, 6))\n",
    "plt.plot(daily_tweets['date_ymd'], daily_tweets['tweet_count'], label='Tweet Volume')\n",
    "plt.xlabel('Date')\n",
    "plt.ylabel('Number of Tweets')\n",
    "plt.tight_layout()\n",
    "\n",
    "#World events\n",
    "events = pd.DataFrame([{'Health Emergency': '30-01-2020', 'George Floyd Passes Away': '05-25-2020',\n",
    "                        'Atlanta Shootings': '16-03-2021', 'Pandemic': '03-11-2020', 'OMICRON Variant': '24-11-2021',\n",
    "                        'Calgary Vigil': '06-06-2020', 'Gov Jay Inslee': '29-02-2020',\n",
    "                        'Chauvin for New Trial': '05-05-2021', 'Trump COVID-19': '10-02-2020',\n",
    "                        'DELTA Variant': '06-15-2021', 'Legislation COVID-19': '04-22-2021'}])\n",
    "\n",
    "# Y-axis range calculation for text placement\n",
    "y_min, y_max = plt.ylim()\n",
    "y_text_placement = y_max + (y_max - y_min) * 0.05  # Adjusting text placement above the top\n",
    "\n",
    "# Overlay each event\n",
    "for event, date in events.items():\n",
    "    date = pd.to_datetime(date)\n",
    "    plt.axvline(date, color='purple', linestyle='--', linewidth=1)\n",
    "    plt.text(date, y_text_placement, event, rotation=90, verticalalignment='bottom', horizontalalignment='right',\n",
    "             color='purple', fontsize=9)\n",
    "\n",
    "plt.legend()\n",
    "plt.show()"
   ]
  },
  {
   "cell_type": "markdown",
   "id": "435fa0af-88c5-444b-8b0b-b7181517c081",
   "metadata": {},
   "source": [
    "### B. Create a timeseries graph of account creation"
   ]
  },
  {
   "cell_type": "code",
   "execution_count": null,
   "id": "2e769225-6b2d-457e-a8a7-9053fb5a2d34",
   "metadata": {},
   "outputs": [],
   "source": []
  },
  {
   "cell_type": "code",
   "execution_count": null,
   "id": "a812418b-b0ed-4331-82c2-40e4e0f59253",
   "metadata": {},
   "outputs": [],
   "source": []
  },
  {
   "cell_type": "markdown",
   "id": "c3ed78a5-5915-481f-803d-e38e42585b04",
   "metadata": {},
   "source": [
    "### 03. What is the relationship between the onset of these current events and the volume of tweets?"
   ]
  },
  {
   "cell_type": "code",
   "execution_count": 20,
   "id": "e3608e0f-9733-4936-94d3-26710e507902",
   "metadata": {},
   "outputs": [
    {
     "name": "stdout",
     "output_type": "stream",
     "text": [
      "01-01-2020\n"
     ]
    },
    {
     "data": {
      "text/plain": [
       "1771     2020-01-24 09:48:33+00:00\n",
       "10596    2020-01-24 09:56:56+00:00\n",
       "11024    2020-01-24 09:55:16+00:00\n",
       "13401    2020-01-24 09:45:31+00:00\n",
       "14390    2020-01-24 09:41:38+00:00\n",
       "                    ...           \n",
       "161184   2022-01-31 15:54:02+00:00\n",
       "163737   2022-01-31 15:54:54+00:00\n",
       "167808   2022-01-31 15:56:17+00:00\n",
       "172957   2022-01-31 15:58:01+00:00\n",
       "174882   2022-01-31 15:58:40+00:00\n",
       "Name: date, Length: 1678460, dtype: datetime64[ns, UTC]"
      ]
     },
     "execution_count": 20,
     "metadata": {},
     "output_type": "execute_result"
    }
   ],
   "source": [
    "def ddmmyyyy(date):\n",
    "    x = datetime.strptime(date, '%a %b %d %H:%M:%S %z %Y')\n",
    "    x = x.strftime('%d-%m-%Y')\n",
    "    return x\n",
    "\n",
    "data['date2'] = data['date'].apply(ddmmyyyy)\n",
    "data['date2'] = pd.to_datetime(data['date2'], format='%d-%m-%Y')\n",
    "start_date = datetime.strptime(\"20-07-2021\", \"%d-%m-%Y\")\n",
    "end_date = datetime.strptime(\"30-08-2021\", \"%d-%m-%Y\")\n",
    "daily_tweets = data\n",
    "\n",
    "# Date filter\n",
    "# daily_tweets = data[data['date2'].between(start_date, end_date)]\n",
    "\n",
    "# Find tweet count for each day\n",
    "daily_tweets = daily_tweets.resample('D', on='date2').size().reset_index(name='tweet_count')\n",
    "\n",
    "# Plot \n",
    "plt.figure(figsize=(12, 6))\n",
    "plt.plot(daily_tweets['date2'], daily_tweets['tweet_count'], label='Tweet Volume')\n",
    "plt.xlabel('Date')\n",
    "plt.ylabel('Number of Tweets')\n",
    "plt.tight_layout()\n",
    "\n",
    "#World events\n",
    "events = pd.DataFrame([{'Health Emergency': '30-01-2020', 'George Floyd Passes Away': '05-25-2020',\n",
    "                        'Atlanta Shootings': '16-03-2021', 'Pandemic': '03-11-2020', 'OMICRON Variant': '24-11-2021',\n",
    "                        'Calgary Vigil': '06-06-2020', 'Gov Jay Inslee': '29-02-2020',\n",
    "                        'Chauvin for New Trial': '05-05-2021', 'Trump COVID-19': '10-02-2020',\n",
    "                        'DELTA Variant': '06-15-2021', 'Legislation COVID-19': '04-22-2021'}])\n",
    "\n",
    "# Y-axis range calculation for text placement\n",
    "y_min, y_max = plt.ylim()\n",
    "y_text_placement = y_max + (y_max - y_min) * 0.05  # Adjusting text placement above the top\n",
    "\n",
    "# Overlay each event\n",
    "for event, date in events.items():\n",
    "    date = pd.to_datetime(date)\n",
    "    plt.axvline(date, color='purple', linestyle='--', linewidth=1)\n",
    "    plt.text(date, y_text_placement, event, rotation=90, verticalalignment='bottom', horizontalalignment='right',\n",
    "             color='purple', fontsize=9)\n",
    "\n",
    "plt.legend()\n",
    "plt.show()"
   ]
  },
  {
   "cell_type": "markdown",
   "id": "bf42e1d9-77dc-4eee-83ae-6d9dafd64148",
   "metadata": {},
   "source": [
    "---------------------------------------------------------------------------------------------------------------------------------------------\n",
    "### 04: Sentiment Analysis"
   ]
  },
  {
   "cell_type": "code",
   "execution_count": null,
   "id": "440d50c4-7661-4f56-9b3f-fc94aac8bf20",
   "metadata": {},
   "outputs": [],
   "source": [
    "def sentiment(tweets):\n",
    "    sentiments = tweets['text'].apply(lambda tweet: TextBlob(tweet).sentiment.polarity)\n",
    "    return sentiments.mean()"
   ]
  },
  {
   "cell_type": "code",
   "execution_count": null,
   "id": "c07a28c1-870f-49bf-adab-a994c8749747",
   "metadata": {},
   "outputs": [],
   "source": [
    "covid = filtr(covid,\"2020-02-28\",\"2021-05-06\")\n",
    "\n",
    "# Analyze sentiment\n",
    "blm_sent = sentiment(blm)\n",
    "asian_sent = sentiment(asian)\n",
    "covid_sent = sentiment(covid)\n",
    "\n",
    "blm_sent, asian_sent, covid_sent"
   ]
  },
  {
   "cell_type": "markdown",
   "id": "9923c7ae-4510-4dcd-922a-17946576ffd8",
   "metadata": {},
   "source": [
    "---------------------------------------------------------------------------------------------------------------------------------------------\n",
    "### OLD STUFF"
   ]
  },
  {
   "cell_type": "markdown",
   "id": "7712f929377c3ffe",
   "metadata": {
    "collapsed": false,
    "jupyter": {
     "outputs_hidden": false
    }
   },
   "source": [
    "- Create 'year_posted' from 'date'"
   ]
  },
  {
   "cell_type": "code",
   "execution_count": null,
   "id": "42c088ff34ae3930",
   "metadata": {
    "ExecuteTime": {
     "end_time": "2024-05-17T08:36:56.042408Z",
     "start_time": "2024-05-17T08:36:47.241438Z"
    },
    "collapsed": false,
    "jupyter": {
     "outputs_hidden": false
    }
   },
   "outputs": [],
   "source": [
    "data['date'] = pd.to_datetime(data['date'], format='mixed')\n",
    "data['year_posted'] = data['date'].dt.year\n",
    "data['year_posted'] = pd.to_numeric(data['year_posted'])\n",
    "#print(data.info())\n",
    "print(data['year_posted'].head(15))"
   ]
  },
  {
   "cell_type": "markdown",
   "id": "2e9321bbea0d049c",
   "metadata": {
    "collapsed": false,
    "jupyter": {
     "outputs_hidden": false
    }
   },
   "source": [
    "- This function gives us a score to measure credibility depending on how old a account is in comparison with the oldest account"
   ]
  },
  {
   "cell_type": "code",
   "execution_count": null,
   "id": "cd3c61c94d44db52",
   "metadata": {
    "ExecuteTime": {
     "end_time": "2024-05-17T08:36:56.046476Z",
     "start_time": "2024-05-17T08:36:56.043123Z"
    },
    "collapsed": false,
    "jupyter": {
     "outputs_hidden": false
    }
   },
   "outputs": [],
   "source": [
    "max_age = int(data['acc_age'].max())\n",
    "print(f\"Oldest Account is {max_age} days or {round(max_age/360)} years old\")\n",
    "\n",
    "def credibility(days):\n",
    "    if days <= 0 or days > max_age:\n",
    "        return None\n",
    "    score = int((days / max_age) * 100)\n",
    "    score = max(1, score)\n",
    "    score = min(100, score)  \n",
    "    if score <= 25:\n",
    "        cred = \"unreliable\"\n",
    "    elif score <= 50:\n",
    "        cred = \"somewhat unreliable\"\n",
    "    elif score <= 75:\n",
    "        cred = \"somewhat reliable\"\n",
    "    else:\n",
    "        cred = \"reliable\"\n",
    "    return cred"
   ]
  },
  {
   "cell_type": "markdown",
   "id": "a48ca06a4af6e528",
   "metadata": {
    "collapsed": false,
    "jupyter": {
     "outputs_hidden": false
    }
   },
   "source": [
    "- Group the tweets by 'year_posted' and plot it"
   ]
  },
  {
   "cell_type": "code",
   "execution_count": null,
   "id": "157805efba39d5db",
   "metadata": {
    "ExecuteTime": {
     "end_time": "2024-05-17T08:36:56.051717Z",
     "start_time": "2024-05-17T08:36:56.047984Z"
    },
    "collapsed": false,
    "jupyter": {
     "outputs_hidden": false
    }
   },
   "outputs": [],
   "source": [
    "plot1 = data.groupby('year_posted').size()\n",
    "top_year = plot1.idxmax()\n",
    "top_year_count = plot1.max()\n",
    "\n",
    "print(f\"The year with the highest number of tweets posted is {top_year} with {top_year_count} tweets.\")"
   ]
  },
  {
   "cell_type": "code",
   "execution_count": null,
   "id": "29e3df6e1b56cd10",
   "metadata": {
    "ExecuteTime": {
     "end_time": "2024-05-17T08:36:56.101780Z",
     "start_time": "2024-05-17T08:36:56.052503Z"
    },
    "collapsed": false,
    "jupyter": {
     "outputs_hidden": false
    }
   },
   "outputs": [],
   "source": [
    "plot1.plot(kind='bar', color='skyblue')\n",
    "plt.title('Amount of Tweets Posted by Year')\n",
    "plt.xlabel('Year')\n",
    "plt.ylabel('')\n",
    "\n",
    "plt.show()"
   ]
  },
  {
   "cell_type": "code",
   "execution_count": null,
   "id": "1f69e5bc4aa687a3",
   "metadata": {
    "ExecuteTime": {
     "end_time": "2024-05-17T08:36:56.199575Z",
     "start_time": "2024-05-17T08:36:56.102642Z"
    },
    "collapsed": false,
    "jupyter": {
     "outputs_hidden": false
    }
   },
   "outputs": [],
   "source": [
    "data['acc_age'] = data['acc_age'].fillna(0).astype(int)\n",
    "data['credit'] = data['acc_age'].apply(credibility)\n",
    "# print(data['credit'].head(15))\n",
    "\n",
    "plot2 = data.groupby('credit').size().reset_index(name='credit_count')\n",
    "\n",
    "plt.figure(figsize=(8, 8)) \n",
    "hue = ['#E32227', '#FFDB58', '#00FF00', '#98fb98']\n",
    "plt.pie(plot2['credit_count'], labels=['Unreliable', 'Somewhat unreliable', 'Somewhat reliable', 'Reliable'],\n",
    "        autopct='%1.1f%%', startangle=90, colors=hue)\n",
    "plt.title('Credibility of tweets between 2020 and 2022 Based on Account Age')\n",
    "plt.show()"
   ]
  },
  {
   "cell_type": "code",
   "execution_count": null,
   "id": "74034a7384d4d9d3",
   "metadata": {
    "ExecuteTime": {
     "end_time": "2024-05-17T08:36:56.331615Z",
     "start_time": "2024-05-17T08:36:56.200476Z"
    },
    "collapsed": false,
    "jupyter": {
     "outputs_hidden": false
    }
   },
   "outputs": [],
   "source": [
    "def year(days):\n",
    "    downl_year = 2023\n",
    "    if days <= 0 or days > max_age:\n",
    "        return 0\n",
    "    yr_count = days / 365\n",
    "    yr = downl_year - yr_count\n",
    "    return int(yr)\n",
    "\n",
    "data['yr_created'] = data['acc_age'].apply(year)\n",
    "\n",
    "plot3 = data.groupby('yr_created')['userid'].size().reset_index(name='acc_count')\n",
    "top5_yr = plot3.nlargest(6, 'acc_count')['yr_created']\n",
    "colors = ['skyblue' if yr not in top5_yr.values else 'orange' for yr in plot3['yr_created']]\n",
    "\n",
    "plt.figure(figsize=(10, 6))\n",
    "plt.bar(plot3['yr_created'], plot3['acc_count'], color= colors)\n",
    "plt.title('Amount of Accounts Created by Year')\n",
    "plt.xlabel('Year')\n",
    "plt.ylabel('Number of Accounts')\n",
    "plt.xlim(2007, 2023)\n",
    "plt.ylim(0, 9000)\n",
    "plt.xticks(range(2007, 2023, 1))\n",
    "\n",
    "plt.show()"
   ]
  }
 ],
 "metadata": {
  "kernelspec": {
   "display_name": "Python 3 (ipykernel)",
   "language": "python",
   "name": "python3"
  },
  "language_info": {
   "codemirror_mode": {
    "name": "ipython",
    "version": 3
   },
   "file_extension": ".py",
   "mimetype": "text/x-python",
   "name": "python",
   "nbconvert_exporter": "python",
   "pygments_lexer": "ipython3",
   "version": "3.11.7"
  }
 },
 "nbformat": 4,
 "nbformat_minor": 5
}
